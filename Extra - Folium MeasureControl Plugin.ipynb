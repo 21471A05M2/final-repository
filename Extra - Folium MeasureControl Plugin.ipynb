!pip3 install folium
!pip3 install wget
Requirement already satisfied: folium in /Users/debdattasarkar/opt/anaconda3/lib/python3.8/site-packages (0.12.1)
Requirement already satisfied: numpy in /Users/debdattasarkar/opt/anaconda3/lib/python3.8/site-packages (from folium) (1.20.1)
Requirement already satisfied: requests in /Users/debdattasarkar/opt/anaconda3/lib/python3.8/site-packages (from folium) (2.25.1)
Requirement already satisfied: branca>=0.3.0 in /Users/debdattasarkar/opt/anaconda3/lib/python3.8/site-packages (from folium) (0.4.2)
Requirement already satisfied: jinja2>=2.9 in /Users/debdattasarkar/opt/anaconda3/lib/python3.8/site-packages (from folium) (2.11.3)
Requirement already satisfied: MarkupSafe>=0.23 in /Users/debdattasarkar/opt/anaconda3/lib/python3.8/site-packages (from jinja2>=2.9->folium) (1.1.1)
Requirement already satisfied: certifi>=2017.4.17 in /Users/debdattasarkar/opt/anaconda3/lib/python3.8/site-packages (from requests->folium) (2020.12.5)
Requirement already satisfied: idna<3,>=2.5 in /Users/debdattasarkar/opt/anaconda3/lib/python3.8/site-packages (from requests->folium) (2.10)
Requirement already satisfied: urllib3<1.27,>=1.21.1 in /Users/debdattasarkar/opt/anaconda3/lib/python3.8/site-packages (from requests->folium) (1.26.4)
Requirement already satisfied: chardet<5,>=3.0.2 in /Users/debdattasarkar/opt/anaconda3/lib/python3.8/site-packages (from requests->folium) (4.0.0)
Requirement already satisfied: wget in /Users/debdattasarkar/opt/anaconda3/lib/python3.8/site-packages (3.2)
import folium
import wget
import pandas as pd
# Import folium MarkerCluster plugin
from folium.plugins import MarkerCluster
# Import folium MousePosition plugin
from folium.plugins import MousePosition
# Import folium DivIcon plugin
from folium.features import DivIcon
Mark all launch sites on a map
The following dataset with the name spacex_launch_geo.csv is an augmented dataset with latitude and longitude added for each site.

# Download and read the `spacex_launch_geo.csv`
spacex_csv_file = wget.download('https://cf-courses-data.s3.us.cloud-object-storage.appdomain.cloud/IBM-DS0321EN-SkillsNetwork/datasets/spacex_launch_geo.csv')
spacex_df=pd.read_csv(spacex_csv_file)
Now, you can take a look at what are the coordinates for each site.

# Select relevant sub-columns: `Launch Site`, `Lat(Latitude)`, `Long(Longitude)`, `class`
spacex_df = spacex_df[['Launch Site', 'Lat', 'Long', 'class']]
launch_sites_df = spacex_df.groupby(['Launch Site'], as_index=False).first()
launch_sites_df = launch_sites_df[['Launch Site', 'Lat', 'Long']]
launch_sites_df
Launch Site	Lat	Long
0	CCAFS LC-40	28.562302	-80.577356
1	CCAFS SLC-40	28.563197	-80.576820
2	KSC LC-39A	28.573255	-80.646895
3	VAFB SLC-4E	34.632834	-120.610746
Converting the dataframe to dictionary
launch_sites_dict = launch_sites_df.set_index('Launch Site').T.to_dict('list')
My Own Custom Functions for Markers
def add_type_marker_on_map(name, coordinate, ccolor='red', icon_type='train'):   
    marker = folium.map.Marker(
        location=coordinate, 
        popup=name,
        tooltip='click',
        icon=folium.Icon(color=ccolor, icon=icon_type, prefix='fa')
    )
    site_map.add_child(marker) 
VAFB_SLC_4E = [34.632834, -120.610746]
site_map = folium.Map(location=VAFB_SLC_4E, zoom_start=5)
for name,coordinate in launch_sites_dict.items():
    add_type_marker_on_map(name, coordinate,'red','rocket')
After we implement Measurement Control, we can answer the following questions easily:

Are launch sites in close proximity to railways?
Are launch sites in close proximity to highways?
Are launch sites in close proximity to coastline?
Do launch sites keep certain distance away from cities?

For measurement in Kiliometers we add the option "primary_length_unit='kilometers'" and gives you your desired values in 'kms'.


Now lets answer the question in respect to launch site - "VAFB SLC-4E"

Railway distance:images/1railway.png 
Are launch sites in close proximity to highways? 
Are launch sites in close proximity to coastline? 
Do launch sites keep certain distance away from cities? 
Measure Control Plugin from Folium
from folium.plugins import MeasureControl
site_map.add_child(MeasureControl(primary_length_unit='kilometers',active_color='#0900ba', completed_color='#ba2f00'))
site_map
Make this Notebook Trusted to load map: File -> Trust Notebook
Author
Debdatta Sarkar

GitHub Files
